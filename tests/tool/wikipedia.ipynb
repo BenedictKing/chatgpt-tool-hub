{
 "cells": [
  {
   "cell_type": "code",
   "execution_count": null,
   "metadata": {},
   "outputs": [],
   "source": [
    "%run ../init.ipynb\n",
    "\n",
    "from chatgpt_tool_hub.tools import dynamic_tool_loader\n",
    "from chatgpt_tool_hub.tools.all_tool_list import main_tool_register\n",
    "\n",
    "# 尽可能地加载tool\n",
    "dynamic_tool_loader()\n",
    "\n",
    "_func, _ = main_tool_register.get_registered_tool()['wikipedia']"
   ]
  },
  {
   "cell_type": "code",
   "execution_count": null,
   "metadata": {},
   "outputs": [],
   "source": [
    "\"\"\"debug mode\"\"\"\n",
    "\n",
    "tool = _func(wikipedia_debug=True)\n",
    "result_list = []\n",
    "result_list.append(tool.run(\"爱因斯坦是哪一年出生的？\"))\n",
    "result_list.append(tool.run(\"二战著名事件有哪些？\"))\n",
    "result_list.append(tool.run(\"查询埃菲尔铁塔有关内容\"))\n",
    "result_list.append(tool.run(\"什么是量子力学？\"))\n",
    "result_list.append(tool.run(\"了不起的盖茨比这本书主要讲了什么？\"))\n",
    "result_list.append(tool.run(\"什么是资本主义？\"))\n",
    "result_list.append(tool.run(\"区块链技术有哪些？\"))\n",
    "\n",
    "for result in result_list: print(result)"
   ]
  },
  {
   "cell_type": "code",
   "execution_count": null,
   "metadata": {},
   "outputs": [],
   "source": [
    "\"\"\"test wikipedia api\"\"\"\n",
    "from chatgpt_tool_hub.tools.wikipedia.wrapper import WikipediaAPIWrapper\n",
    "\n",
    "wrapper = WikipediaAPIWrapper(wikipedia_top_k_results=3)\n",
    "result = wrapper.run(\"爱因斯坦 出生 年份\")\n",
    "print(result)\n",
    "result = wrapper.run(\"二战 著名 事件\")\n",
    "print(result)\n",
    "result = wrapper.run(\"Eiffel Tower\")\n",
    "print(result)\n",
    "result = wrapper.run(\"量子力学\")\n",
    "print(result)\n",
    "result = wrapper.run(\"了不起的盖茨比 书籍 内容\")\n",
    "print(result)\n",
    "result = wrapper.run(\"资本主义\")\n",
    "print(result)\n",
    "result = wrapper.run(\"区块链 技术\")\n",
    "print(result)"
   ]
  },
  {
   "cell_type": "code",
   "execution_count": null,
   "metadata": {},
   "outputs": [],
   "source": [
    "\"\"\"normal test\"\"\"\n",
    "tool = _func(wikipedia_top_k_results=1)\n",
    "result = tool.run(\"区块链\")\n",
    "print(result)"
   ]
  }
 ],
 "metadata": {
  "kernelspec": {
   "display_name": "tool",
   "language": "python",
   "name": "python3"
  },
  "language_info": {
   "codemirror_mode": {
    "name": "ipython",
    "version": 3
   },
   "file_extension": ".py",
   "mimetype": "text/x-python",
   "name": "python",
   "nbconvert_exporter": "python",
   "pygments_lexer": "ipython3",
   "version": "3.8.0"
  }
 },
 "nbformat": 4,
 "nbformat_minor": 2
}
