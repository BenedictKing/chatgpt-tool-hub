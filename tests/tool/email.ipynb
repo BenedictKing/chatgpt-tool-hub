{
 "cells": [
  {
   "cell_type": "code",
   "execution_count": null,
   "metadata": {},
   "outputs": [],
   "source": [
    "%run ../init.ipynb\n",
    "\n",
    "from chatgpt_tool_hub.tools import dynamic_tool_loader\n",
    "from chatgpt_tool_hub.tools.tool_register import main_tool_register\n",
    "\n",
    "# 尽可能地加载tool\n",
    "dynamic_tool_loader()\n",
    "\n",
    "_func, _ = main_tool_register.get_registered_tool()['email']"
   ]
  },
  {
   "cell_type": "code",
   "execution_count": null,
   "metadata": {},
   "outputs": [],
   "source": [
    "\"\"\"debug mode\"\"\"\n",
    "\n",
    "tool = _func(email_debug=True)\n",
    "result = tool.run(\"给 fish 发条问候的邮件\")\n",
    "print(result)"
   ]
  },
  {
   "cell_type": "code",
   "execution_count": null,
   "metadata": {},
   "outputs": [],
   "source": [
    "\"\"\"simple mode\"\"\"\n",
    "tool = _func()\n",
    "result = tool.run(\"给 fish 发条问候的邮件\")\n",
    "print(result)"
   ]
  }
 ],
 "metadata": {
  "kernelspec": {
   "display_name": "tool",
   "language": "python",
   "name": "python3"
  },
  "language_info": {
   "codemirror_mode": {
    "name": "ipython",
    "version": 3
   },
   "file_extension": ".py",
   "mimetype": "text/x-python",
   "name": "python",
   "nbconvert_exporter": "python",
   "pygments_lexer": "ipython3",
   "version": "3.10.13"
  }
 },
 "nbformat": 4,
 "nbformat_minor": 2
}
