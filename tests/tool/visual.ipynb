{
 "cells": [
  {
   "cell_type": "code",
   "execution_count": null,
   "metadata": {},
   "outputs": [],
   "source": [
    "%run ../init.ipynb\n",
    "\n",
    "from chatgpt_tool_hub.tools import dynamic_tool_loader\n",
    "from chatgpt_tool_hub.tools.all_tool_list import main_tool_register\n",
    "\n",
    "# 尽可能地加载tool\n",
    "dynamic_tool_loader()\n",
    "\n",
    "_func, _ = main_tool_register.get_registered_tool()['visual']"
   ]
  },
  {
   "cell_type": "code",
   "execution_count": null,
   "metadata": {},
   "outputs": [],
   "source": [
    "\"\"\"url visual test\"\"\"\n",
    "\n",
    "tool = _func()\n",
    "result = tool.run(\"https://dashscope.oss-cn-beijing.aliyuncs.com/images/dog_and_girl.jpeg\")\n",
    "print(result)\n"
   ]
  },
  {
   "cell_type": "code",
   "execution_count": null,
   "metadata": {},
   "outputs": [],
   "source": [
    "\"\"\"url visual test\"\"\"\n",
    "import os\n",
    "import tempfile\n",
    "import requests\n",
    "\n",
    "def download_image(url):\n",
    "    response = requests.get(url)\n",
    "    response.raise_for_status()\n",
    "    \n",
    "    temp_dir = tempfile.mkdtemp()\n",
    "    file_path = os.path.join(temp_dir, os.path.basename(url))\n",
    "    \n",
    "    with open(file_path, 'wb') as file:\n",
    "        file.write(response.content)\n",
    "    \n",
    "    return file_path\n",
    "\n",
    "downloaded_image_path = download_image(\"https://dashscope.oss-cn-beijing.aliyuncs.com/images/dog_and_girl.jpeg\")\n",
    "print(f\"temp image path: {downloaded_image_path}\")\n",
    "tool = _func()\n",
    "result = tool.path(downloaded_image_path)\n",
    "print(result)\n"
   ]
  }
 ],
 "metadata": {
  "kernelspec": {
   "display_name": "tool",
   "language": "python",
   "name": "python3"
  },
  "language_info": {
   "codemirror_mode": {
    "name": "ipython",
    "version": 3
   },
   "file_extension": ".py",
   "mimetype": "text/x-python",
   "name": "python",
   "nbconvert_exporter": "python",
   "pygments_lexer": "ipython3",
   "version": "3.10.13"
  }
 },
 "nbformat": 4,
 "nbformat_minor": 2
}
