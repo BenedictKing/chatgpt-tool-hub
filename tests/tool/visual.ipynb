{
 "cells": [
  {
   "cell_type": "code",
   "execution_count": 1,
   "metadata": {},
   "outputs": [
    {
     "name": "stdout",
     "output_type": "stream",
     "text": [
      "/Users/goldfish/VSCode/chatgpt-tool-hub\n",
      "chatgpt-tool-hub version: 0.5.0\n"
     ]
    }
   ],
   "source": [
    "%run ../init.ipynb\n",
    "\n",
    "from chatgpt_tool_hub.tools import dynamic_tool_loader\n",
    "from chatgpt_tool_hub.tools.all_tool_list import main_tool_register\n",
    "\n",
    "# 尽可能地加载tool\n",
    "dynamic_tool_loader()\n",
    "\n",
    "_func, _ = main_tool_register.get_registered_tool()['visual']"
   ]
  },
  {
   "cell_type": "code",
   "execution_count": 2,
   "metadata": {},
   "outputs": [
    {
     "name": "stdout",
     "output_type": "stream",
     "text": [
      "[DEBUG][2024-01-13 02:40:09][tool.py:92] - [caption] qwen-vl-plus response: {\"status_code\": 200, \"request_id\": \"43739f5d-48a8-92f6-83c4-0725ec1eb4bc\", \"code\": \"\", \"message\": \"\", \"output\": {\"text\": null, \"finish_reason\": \"stop\", \"choices\": [{\"finish_reason\": null, \"message\": {\"role\": \"assistant\", \"content\": [{\"text\": \"图中是一名女子和她的狗在海滩上。她坐在沙滩上，穿着格子衬衫、牛仔裤和运动鞋。她的狗是一只金毛寻回犬，戴着项圈和胸背带，正在与她握手互动。背景是海浪拍打着海岸线的海洋景色。\\n\\n这张照片捕捉到了人与宠物之间温馨而有趣的时刻，展示了他们之间的友谊和信任。阳光透过云层洒向地面，为整个场景增添了温暖的感觉。整体氛围显得轻松愉快，充满了爱意和陪伴的气息。\"}]}}]}, \"usage\": {\"input_tokens\": 1277, \"output_tokens\": 112, \"image_tokens\": 1247}}\n",
      "[INFO][2024-01-13 02:40:09][tool.py:93] - [caption] output: 图中是一名女子和她的狗在海滩上。她坐在沙滩上，穿着格子衬衫、牛仔裤和运动鞋。她的狗是一只金毛寻回犬，戴着项圈和胸背带，正在与她握手互动。背景是海浪拍打着海岸线的海洋景色。\n",
      "\n",
      "这张照片捕捉到了人与宠物之间温馨而有趣的时刻，展示了他们之间的友谊和信任。阳光透过云层洒向地面，为整个场景增添了温暖的感觉。整体氛围显得轻松愉快，充满了爱意和陪伴的气息。\n",
      "图中是一名女子和她的狗在海滩上。她坐在沙滩上，穿着格子衬衫、牛仔裤和运动鞋。她的狗是一只金毛寻回犬，戴着项圈和胸背带，正在与她握手互动。背景是海浪拍打着海岸线的海洋景色。\n",
      "\n",
      "这张照片捕捉到了人与宠物之间温馨而有趣的时刻，展示了他们之间的友谊和信任。阳光透过云层洒向地面，为整个场景增添了温暖的感觉。整体氛围显得轻松愉快，充满了爱意和陪伴的气息。\n"
     ]
    }
   ],
   "source": [
    "\"\"\"url visual test\"\"\"\n",
    "\n",
    "tool = _func()\n",
    "result = tool.run(\"https://dashscope.oss-cn-beijing.aliyuncs.com/images/dog_and_girl.jpeg\")\n",
    "print(result)\n"
   ]
  },
  {
   "cell_type": "code",
   "execution_count": 3,
   "metadata": {},
   "outputs": [
    {
     "name": "stdout",
     "output_type": "stream",
     "text": [
      "temp image path: /var/folders/jq/2xv_s81d5mx4tns6mw9fqj400000gp/T/tmpz3yi8t6w/dog_and_girl.jpeg\n",
      "[DEBUG][2024-01-13 02:42:55][tool.py:66] - [caption] qwen-vl-plus response: {\"status_code\": 200, \"request_id\": \"9b04d462-33b2-9a05-b782-9fde5dfdb19b\", \"code\": \"\", \"message\": \"\", \"output\": {\"text\": null, \"finish_reason\": \"stop\", \"choices\": [{\"finish_reason\": null, \"message\": {\"role\": \"assistant\", \"content\": [{\"text\": \"图中有一只狗和一个女人。这只黄色的拉布拉多犬坐在沙滩上，伸出爪子与一位穿着格子衬衫的女人击掌互动。远处是海浪拍打海岸的画面。\"}]}}]}, \"usage\": {\"input_tokens\": 1279, \"output_tokens\": 43, \"image_tokens\": 1247}}\n",
      "[INFO][2024-01-13 02:42:55][tool.py:67] - [caption] output: 图中有一只狗和一个女人。这只黄色的拉布拉多犬坐在沙滩上，伸出爪子与一位穿着格子衬衫的女人击掌互动。远处是海浪拍打海岸的画面。\n",
      "图中有一只狗和一个女人。这只黄色的拉布拉多犬坐在沙滩上，伸出爪子与一位穿着格子衬衫的女人击掌互动。远处是海浪拍打海岸的画面。\n"
     ]
    }
   ],
   "source": [
    "\"\"\"url visual test\"\"\"\n",
    "import os\n",
    "import tempfile\n",
    "import requests\n",
    "\n",
    "def download_image(url):\n",
    "    response = requests.get(url)\n",
    "    response.raise_for_status()\n",
    "    \n",
    "    temp_dir = tempfile.mkdtemp()\n",
    "    file_path = os.path.join(temp_dir, os.path.basename(url))\n",
    "    \n",
    "    with open(file_path, 'wb') as file:\n",
    "        file.write(response.content)\n",
    "    \n",
    "    return file_path\n",
    "\n",
    "downloaded_image_path = download_image(\"https://dashscope.oss-cn-beijing.aliyuncs.com/images/dog_and_girl.jpeg\")\n",
    "print(f\"temp image path: {downloaded_image_path}\")\n",
    "tool = _func()\n",
    "result = tool.path(downloaded_image_path)\n",
    "print(result)\n"
   ]
  }
 ],
 "metadata": {
  "kernelspec": {
   "display_name": "tool",
   "language": "python",
   "name": "python3"
  },
  "language_info": {
   "codemirror_mode": {
    "name": "ipython",
    "version": 3
   },
   "file_extension": ".py",
   "mimetype": "text/x-python",
   "name": "python",
   "nbconvert_exporter": "python",
   "pygments_lexer": "ipython3",
   "version": "3.10.13"
  }
 },
 "nbformat": 4,
 "nbformat_minor": 2
}
