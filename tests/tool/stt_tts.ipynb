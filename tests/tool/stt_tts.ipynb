{
 "cells": [
  {
   "cell_type": "code",
   "execution_count": null,
   "metadata": {},
   "outputs": [],
   "source": [
    "%run ../init.ipynb\n",
    "\n",
    "from chatgpt_tool_hub.tools import dynamic_tool_loader\n",
    "from chatgpt_tool_hub.tools.all_tool_list import main_tool_register\n",
    "\n",
    "# 尽可能地加载tool\n",
    "dynamic_tool_loader()"
   ]
  },
  {
   "cell_type": "code",
   "execution_count": null,
   "metadata": {},
   "outputs": [],
   "source": [
    "\"\"\"stt file test\"\"\"\n",
    "_func, _ = main_tool_register.get_registered_tool()['stt']\n",
    "\n",
    "path = \"/Users/goldfish/Downloads/_tmp_gradio_75aac95dbe6cfa168b8febdf05d899722ca6d7e2_audio.wav\"\n",
    "tool = _func()\n",
    "result = tool.run(path)\n",
    "print(result)"
   ]
  },
  {
   "cell_type": "code",
   "execution_count": null,
   "metadata": {},
   "outputs": [],
   "source": [
    "\"\"\"stt url test\"\"\"\n",
    "_func, _ = main_tool_register.get_registered_tool()['stt']\n",
    "\n",
    "url = \"https://torappu.prts.wiki/assets/audio/voice/char_4048_doroth/cn_001.wav?filename=%E4%BB%BB%E5%91%BD%E5%8A%A9%E7%90%86.wav\"\n",
    "tool = _func(stt_recognition_language=\"ja-JP\")\n",
    "result = tool.url(url)\n",
    "print(result)"
   ]
  },
  {
   "cell_type": "code",
   "execution_count": null,
   "metadata": {},
   "outputs": [],
   "source": [
    "\"\"\"stt microphone test\"\"\"\n",
    "_func, _ = main_tool_register.get_registered_tool()['stt']\n",
    "\n",
    "tool = _func()\n",
    "result = tool.microphone()\n",
    "print(result)"
   ]
  },
  {
   "cell_type": "code",
   "execution_count": null,
   "metadata": {},
   "outputs": [],
   "source": [
    "\"\"\"tts simple test\"\"\"\n",
    "_func, _ = main_tool_register.get_registered_tool()['tts']\n",
    "\n",
    "tool = _func()\n",
    "result = tool.run(\"可能定价锚定的是客户群体，不是技术成本\")\n",
    "print(result)"
   ]
  },
  {
   "cell_type": "code",
   "execution_count": null,
   "metadata": {},
   "outputs": [],
   "source": [
    "\"\"\"tts simple test\"\"\"\n",
    "_func, _ = main_tool_register.get_registered_tool()['tts']\n",
    "\n",
    "tool = _func()\n",
    "tool.speaker(\"可能定价锚定的是客户群体，不是技术成本\")"
   ]
  }
 ],
 "metadata": {
  "kernelspec": {
   "display_name": "tool",
   "language": "python",
   "name": "python3"
  },
  "language_info": {
   "codemirror_mode": {
    "name": "ipython",
    "version": 3
   },
   "file_extension": ".py",
   "mimetype": "text/x-python",
   "name": "python",
   "nbconvert_exporter": "python",
   "pygments_lexer": "ipython3",
   "version": "3.10.13"
  }
 },
 "nbformat": 4,
 "nbformat_minor": 2
}
