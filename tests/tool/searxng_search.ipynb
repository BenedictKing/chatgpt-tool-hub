{
 "cells": [
  {
   "cell_type": "code",
   "execution_count": null,
   "metadata": {},
   "outputs": [],
   "source": [
    "%run ../init.ipynb\n",
    "\n",
    "from chatgpt_tool_hub.tools import dynamic_tool_loader\n",
    "from chatgpt_tool_hub.tools.all_tool_list import main_tool_register\n",
    "\n",
    "# 尽可能地加载tool\n",
    "dynamic_tool_loader()\n",
    "\n",
    "_func, _ = main_tool_register.get_registered_tool()['searxng-search']"
   ]
  },
  {
   "cell_type": "code",
   "execution_count": null,
   "metadata": {},
   "outputs": [],
   "source": [
    "\"\"\"debug mode\"\"\"\n",
    "\n",
    "tool = _func(searxng_search_debug=True)\n",
    "result_list = []\n",
    "result_list.append(tool.run(\"mixtral模型的作者是谁？\"))\n",
    "result_list.append(tool.run(\"这周末想去北京周边徒步，推荐我一些地点？\"))\n",
    "result_list.append(tool.run(\"番茄炒蛋的步骤有哪些？\"))\n",
    "result_list.append(tool.run(\"如何治疗荨麻疹？\"))\n",
    "result_list.append(tool.run(\"最近有哪些新电影？\"))\n",
    "result_list.append(tool.run(\"S13冠军是哪个战队？\"))\n",
    "\n",
    "for result in result_list: print(result)"
   ]
  },
  {
   "cell_type": "code",
   "execution_count": null,
   "metadata": {},
   "outputs": [],
   "source": [
    "\"\"\"test searxng api\"\"\"\n",
    "from chatgpt_tool_hub.tools.searxng_search.wrapper import SearxSearchWrapper\n",
    "\n",
    "wrapper = SearxSearchWrapper(searx_search_top_k_results=3)\n",
    "result = wrapper.run(\"mixtral 模型 作者\")\n",
    "print(result)\n",
    "result = wrapper.run(\"北京周边 徒步 地点 推荐\")\n",
    "print(result)\n",
    "result = wrapper.run(\"番茄炒蛋 步骤\")\n",
    "print(result)\n",
    "result = wrapper.run(\"治疗 荨麻疹\")\n",
    "print(result)\n",
    "result = wrapper.run(\"新电影\")\n",
    "print(result)\n",
    "result = wrapper.run(\"S13 冠军 战队\")\n",
    "print(result)"
   ]
  },
  {
   "cell_type": "code",
   "execution_count": null,
   "metadata": {},
   "outputs": [],
   "source": [
    "\"\"\"normal test\"\"\"\n",
    "tool = _func()\n",
    "result = tool.run(\"mixtral模型的作者是谁？\")\n",
    "print(result)"
   ]
  },
  {
   "cell_type": "code",
   "execution_count": null,
   "metadata": {},
   "outputs": [],
   "source": [
    "\"\"\"output_type = json\"\"\"\n",
    "tool = _func(searx_search_output_type=\"json\")\n",
    "result = tool.run(\"S13冠军是哪个战队？\")\n",
    "print(result)"
   ]
  }
 ],
 "metadata": {
  "kernelspec": {
   "display_name": "tool",
   "language": "python",
   "name": "python3"
  },
  "language_info": {
   "codemirror_mode": {
    "name": "ipython",
    "version": 3
   },
   "file_extension": ".py",
   "mimetype": "text/x-python",
   "name": "python",
   "nbconvert_exporter": "python",
   "pygments_lexer": "ipython3",
   "version": "3.10.13"
  }
 },
 "nbformat": 4,
 "nbformat_minor": 2
}
