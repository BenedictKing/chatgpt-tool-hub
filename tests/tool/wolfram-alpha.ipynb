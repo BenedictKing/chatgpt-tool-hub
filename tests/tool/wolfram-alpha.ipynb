{
 "cells": [
  {
   "cell_type": "code",
   "execution_count": null,
   "metadata": {},
   "outputs": [],
   "source": [
    "%run ../init.ipynb\n",
    "\n",
    "from chatgpt_tool_hub.tools import dynamic_tool_loader\n",
    "from chatgpt_tool_hub.tools.tool_register import main_tool_register\n",
    "\n",
    "# 尽可能地加载tool\n",
    "dynamic_tool_loader()\n",
    "\n",
    "_func, _ = main_tool_register.get_registered_tool()['wolfram-alpha']"
   ]
  },
  {
   "cell_type": "code",
   "execution_count": null,
   "metadata": {},
   "outputs": [],
   "source": [
    "\"\"\"debug mode\"\"\"\n",
    "\n",
    "tool = _func(wolfram_alpha_debug=True)\n",
    "result_list = []\n",
    "result_list.append(tool.run(\"流感的症状有哪些？\"))\n",
    "result_list.append(tool.run(\"100美元能换多少人民币？\"))\n",
    "result_list.append(tool.run(\"历史上的今天发生了什么\"))\n",
    "result_list.append(tool.run(\"如何在吉他上弹奏G和弦？\"))\n",
    "\n",
    "for result in result_list: print(result)"
   ]
  },
  {
   "cell_type": "code",
   "execution_count": null,
   "metadata": {},
   "outputs": [],
   "source": [
    "\"\"\"test wolfram-alpha api\"\"\"\n",
    "from chatgpt_tool_hub.tools.wolfram_alpha.wrapper import WolframAlphaAPIWrapper\n",
    "\n",
    "wrapper = WolframAlphaAPIWrapper()\n",
    "result = wrapper.run(\"symptoms of the flu\")\n",
    "print(result)\n",
    "result = wrapper.run(\"100 USD to CNY\")\n",
    "print(result)\n",
    "result = wrapper.run(\"historical events today\")\n",
    "print(result)\n",
    "result = wrapper.run(\"how to play a G chord on guitar\")\n",
    "print(result)\n"
   ]
  },
  {
   "cell_type": "code",
   "execution_count": null,
   "metadata": {},
   "outputs": [],
   "source": [
    "\"\"\"normal test\"\"\"\n",
    "tool = _func()\n",
    "result = tool.run(\"100 USD to CNY\")\n",
    "print(result)"
   ]
  }
 ],
 "metadata": {
  "kernelspec": {
   "display_name": "tool",
   "language": "python",
   "name": "python3"
  },
  "language_info": {
   "codemirror_mode": {
    "name": "ipython",
    "version": 3
   },
   "file_extension": ".py",
   "mimetype": "text/x-python",
   "name": "python",
   "nbconvert_exporter": "python",
   "pygments_lexer": "ipython3",
   "version": "3.8.0"
  }
 },
 "nbformat": 4,
 "nbformat_minor": 2
}
