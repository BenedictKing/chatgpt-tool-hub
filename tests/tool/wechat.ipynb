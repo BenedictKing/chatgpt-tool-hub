{
 "cells": [
  {
   "cell_type": "code",
   "execution_count": null,
   "metadata": {},
   "outputs": [],
   "source": [
    "%run ../init.ipynb\n",
    "\n",
    "from chatgpt_tool_hub.tools import dynamic_tool_loader\n",
    "from chatgpt_tool_hub.tools.all_tool_list import main_tool_register\n",
    "\n",
    "# 尽可能地加载tool\n",
    "dynamic_tool_loader()\n",
    "\n",
    "_func, _ = main_tool_register.get_registered_tool()['wechat']"
   ]
  },
  {
   "cell_type": "code",
   "execution_count": null,
   "metadata": {},
   "outputs": [],
   "source": [
    "\"\"\"debug mode\"\"\"\n",
    "\n",
    "tool = _func(wechat_debug=True)\n",
    "result = tool.run(\"向 fish 问候一下，提醒他天冷多添衣，注意休息\")\n",
    "print(result)\n"
   ]
  },
  {
   "cell_type": "code",
   "execution_count": null,
   "metadata": {},
   "outputs": [],
   "source": [
    "\"\"\"send to person\"\"\"\n",
    "\n",
    "tool = _func()\n",
    "result = tool.run(\"向 fish 问候一下，提醒他天冷多添衣，注意休息\")\n",
    "print(result)\n"
   ]
  },
  {
   "cell_type": "code",
   "execution_count": null,
   "metadata": {},
   "outputs": [],
   "source": [
    "\"\"\"send to group\"\"\"\n",
    "\n",
    "tool = _func()\n",
    "result = tool.run(\"在迪奥娜的粉丝群里问候一下大家，提醒该吃饭啦\")\n",
    "print(result)\n"
   ]
  },
  {
   "cell_type": "code",
   "execution_count": null,
   "metadata": {},
   "outputs": [],
   "source": [
    "\"\"\"invalid itchat.pkl\"\"\"\n",
    "\n",
    "tool = _func(wechat_cpt_path=\"/Users/goldfish/Desktop/itchat-invalid.pkl\")\n",
    "result = tool.run(\"向 fish 问候一下，提醒他天冷多添衣，注意休息\")\n",
    "print(result)"
   ]
  },
  {
   "cell_type": "code",
   "execution_count": null,
   "metadata": {},
   "outputs": [],
   "source": [
    "\"\"\"login test\"\"\"\n",
    "\n",
    "tool = _func(wechat_hot_reload=False)\n",
    "\n",
    "# try to send wechat\n",
    "result = tool.run(\"向 fish 问候一下，提醒他天冷多添衣，注意休息\")\n",
    "print(result)\n",
    "\n",
    "tool.login()\n",
    "\n",
    "# scan qr code and retry again\n",
    "result = tool.run(\"向 fish 问候一下，提醒他天冷多添衣，注意休息\")\n",
    "print(result)"
   ]
  }
 ],
 "metadata": {
  "kernelspec": {
   "display_name": "tool",
   "language": "python",
   "name": "python3"
  },
  "language_info": {
   "codemirror_mode": {
    "name": "ipython",
    "version": 3
   },
   "file_extension": ".py",
   "mimetype": "text/x-python",
   "name": "python",
   "nbconvert_exporter": "python",
   "pygments_lexer": "ipython3",
   "version": "3.8.0"
  }
 },
 "nbformat": 4,
 "nbformat_minor": 2
}
