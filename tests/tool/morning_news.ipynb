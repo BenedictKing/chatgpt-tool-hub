{
 "cells": [
  {
   "cell_type": "code",
   "execution_count": null,
   "metadata": {},
   "outputs": [],
   "source": [
    "%run ../init.ipynb\n",
    "\n",
    "from chatgpt_tool_hub.tools import dynamic_tool_loader\n",
    "from chatgpt_tool_hub.tools.all_tool_list import main_tool_register\n",
    "\n",
    "# 尽可能地加载tool\n",
    "dynamic_tool_loader()\n",
    "\n",
    "_func, _ = main_tool_register.get_registered_tool()['morning-news']"
   ]
  },
  {
   "cell_type": "code",
   "execution_count": null,
   "metadata": {},
   "outputs": [],
   "source": [
    "\"\"\"默认\"\"\"\n",
    "\n",
    "tool = _func()\n",
    "content = tool.run(\"给我发一下早报？\")\n",
    "print(content)"
   ]
  },
  {
   "cell_type": "code",
   "execution_count": null,
   "metadata": {},
   "outputs": [],
   "source": [
    "\"\"\"精简输出\"\"\"\n",
    "_func_input = {\n",
    "    \"morning_news_simple\": True,\n",
    "}\n",
    "\n",
    "tool = _func(**_func_input)\n",
    "content = tool.run(\"给我发一下早报？\")\n",
    "print(content)"
   ]
  },
  {
   "cell_type": "code",
   "execution_count": null,
   "metadata": {},
   "outputs": [],
   "source": [
    "\"\"\"详细输出\"\"\"\n",
    "_func_input = {\n",
    "    \"morning_news_simple\": False,\n",
    "}\n",
    "\n",
    "tool = _func(**_func_input)\n",
    "content = tool.run(\"给我发一下早报？\")\n",
    "print(content)"
   ]
  },
  {
   "cell_type": "code",
   "execution_count": null,
   "metadata": {},
   "outputs": [],
   "source": [
    "\"\"\"图片输出\"\"\"\n",
    "_func_input = {\n",
    "    \"morning_news_output_type\": \"image\",\n",
    "}\n",
    "\n",
    "tool = _func(**_func_input)\n",
    "content = tool.run(\"给我发一下早报？\")\n",
    "print(content)"
   ]
  }
 ],
 "metadata": {
  "kernelspec": {
   "display_name": "tool",
   "language": "python",
   "name": "python3"
  },
  "language_info": {
   "codemirror_mode": {
    "name": "ipython",
    "version": 3
   },
   "file_extension": ".py",
   "mimetype": "text/x-python",
   "name": "python",
   "nbconvert_exporter": "python",
   "pygments_lexer": "ipython3",
   "version": "3.10.13"
  }
 },
 "nbformat": 4,
 "nbformat_minor": 2
}
