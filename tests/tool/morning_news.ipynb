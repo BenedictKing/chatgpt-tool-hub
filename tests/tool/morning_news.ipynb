{
 "cells": [
  {
   "cell_type": "code",
   "execution_count": 1,
   "metadata": {},
   "outputs": [
    {
     "name": "stdout",
     "output_type": "stream",
     "text": [
      "/Users/goldfish/VSCode/chatgpt-tool-hub\n",
      "chatgpt-tool-hub version: 0.5.0\n",
      "toolhub初始加载的工具列表: ['python', 'summary', 'terminal', 'browser', 'url-get']\n",
      "[INFO][2024-01-07 19:52:49][__init__.py:29] - [wikipedia] init failed, error_info: ModuleNotFoundError(\"No module named 'achatgpt_tool_hub'\")\n",
      "[INFO][2024-01-07 19:52:49][__init__.py:29] - [python] init failed, error_info: ModuleNotFoundError(\"No module named 'achatgpt_tool_hub'\")\n",
      "[INFO][2024-01-07 19:52:49][__init__.py:29] - [terminal] init failed, error_info: ModuleNotFoundError(\"No module named 'achatgpt_tool_hub'\")\n",
      "[INFO][2024-01-07 19:52:49][__init__.py:29] - [arxiv_search] init failed, error_info: ModuleNotFoundError(\"No module named 'achatgpt_tool_hub'\")\n",
      "[INFO][2024-01-07 19:52:49][__init__.py:29] - [hello_tool] init failed, error_info: ModuleNotFoundError(\"No module named 'achatgpt_tool_hub'\")\n",
      "[INFO][2024-01-07 19:52:49][__init__.py:29] - [google_search] init failed, error_info: ModuleNotFoundError(\"No module named 'achatgpt_tool_hub'\")\n",
      "[INFO][2024-01-07 19:52:49][__init__.py:29] - [wolfram_alpha] init failed, error_info: ModuleNotFoundError(\"No module named 'achatgpt_tool_hub'\")\n",
      "[INFO][2024-01-07 19:52:49][__init__.py:29] - [system] init failed, error_info: ModuleNotFoundError(\"No module named 'achatgpt_tool_hub'\")\n",
      "[INFO][2024-01-07 19:52:49][__init__.py:29] - [news] init failed, error_info: ModuleNotFoundError(\"No module named 'achatgpt_tool_hub'\")\n",
      "[INFO][2024-01-07 19:52:49][__init__.py:29] - [bing_search] init failed, error_info: ModuleNotFoundError(\"No module named 'achatgpt_tool_hub'\")\n",
      "[INFO][2024-01-07 19:52:49][__init__.py:29] - [visual_dl] init failed, error_info: ModuleNotFoundError(\"No module named 'achatgpt_tool_hub'\")\n",
      "[INFO][2024-01-07 19:52:49][__init__.py:29] - [searxng_search] init failed, error_info: ModuleNotFoundError(\"No module named 'achatgpt_tool_hub'\")\n",
      "[INFO][2024-01-07 19:52:49][__init__.py:29] - [meteo] init failed, error_info: ModuleNotFoundError(\"No module named 'achatgpt_tool_hub'\")\n",
      "[INFO][2024-01-07 19:52:49][__init__.py:29] - [web_requests] init failed, error_info: ModuleNotFoundError(\"No module named 'achatgpt_tool_hub'\")\n",
      "[INFO][2024-01-07 19:52:49][__init__.py:29] - [summary] init failed, error_info: ModuleNotFoundError(\"No module named 'achatgpt_tool_hub'\")\n"
     ]
    },
    {
     "ename": "KeyError",
     "evalue": "'morning-news'",
     "output_type": "error",
     "traceback": [
      "\u001b[0;31m---------------------------------------------------------------------------\u001b[0m",
      "\u001b[0;31mKeyError\u001b[0m                                  Traceback (most recent call last)",
      "\u001b[1;32m/Users/goldfish/VSCode/chatgpt-tool-hub/tests/tool/morning_news.ipynb 单元格 1\u001b[0m line \u001b[0;36m9\n\u001b[1;32m      <a href='vscode-notebook-cell:/Users/goldfish/VSCode/chatgpt-tool-hub/tests/tool/morning_news.ipynb#W0sZmlsZQ%3D%3D?line=5'>6</a>\u001b[0m \u001b[39m# 尽可能地加载tool\u001b[39;00m\n\u001b[1;32m      <a href='vscode-notebook-cell:/Users/goldfish/VSCode/chatgpt-tool-hub/tests/tool/morning_news.ipynb#W0sZmlsZQ%3D%3D?line=6'>7</a>\u001b[0m dynamic_tool_loader()\n\u001b[0;32m----> <a href='vscode-notebook-cell:/Users/goldfish/VSCode/chatgpt-tool-hub/tests/tool/morning_news.ipynb#W0sZmlsZQ%3D%3D?line=8'>9</a>\u001b[0m _func, _ \u001b[39m=\u001b[39m main_tool_register\u001b[39m.\u001b[39;49mget_registered_tool()[\u001b[39m'\u001b[39;49m\u001b[39mmorning-news\u001b[39;49m\u001b[39m'\u001b[39;49m]\n",
      "\u001b[0;31mKeyError\u001b[0m: 'morning-news'"
     ]
    }
   ],
   "source": [
    "%run ../init.ipynb\n",
    "\n",
    "from chatgpt_tool_hub.tools import dynamic_tool_loader\n",
    "from chatgpt_tool_hub.tools.all_tool_list import main_tool_register\n",
    "\n",
    "# 尽可能地加载tool\n",
    "dynamic_tool_loader()\n",
    "\n",
    "_func, _ = main_tool_register.get_registered_tool()['morning-news']"
   ]
  },
  {
   "cell_type": "code",
   "execution_count": 4,
   "metadata": {},
   "outputs": [
    {
     "name": "stdout",
     "output_type": "stream",
     "text": [
      "[INFO][2024-01-07 19:48:39][chatgpt.py:186] - proxy no find, directly request to chatgpt instead\n",
      "2024-01-07\n",
      "\n",
      "1、成都学历落户条件放宽：35周岁以下的全日制普通高校专科学历毕业生可落户成都，2月20日起施行；\n",
      "2、鲁东大学一学生疑被冰锥砸中头部倒地，医院工作人员：重度颅脑损伤，已死亡；\n",
      "3、海南：将有序扩大榴莲种植面积，2024年将增加到4000亩，预计总产量约250吨，打造中国榴莲品牌；\n",
      "4、上海与嘉兴实现公交乘车码互联互通，后续扩大至杭州、南京等城市；\n",
      "5、面积816682.5平方米，哈尔滨冰雪大世界获“世界最大的冰雪主题乐园“吉尼斯世界纪录称号；\n",
      "6、韩方称朝鲜军方6日在半岛西北部地区发射数十发炮弹，朝方对此尚无回应；\n",
      "7、越南总人口突破1亿，成为全球第15个人口破亿国家；\n",
      "8、刚果（金）近日持续强降雨引发洪灾，造成至少300人死亡；\n",
      "9、黎巴嫩真主党：当地6日上午，发射了62枚火箭弹袭击以军基地，为报复哈马斯领导人在黎身亡；\n",
      "10、外媒：美最高法院同意，迅速审理特朗普对科州参选资格裁决的上诉；\n",
      "11、马航MH370重大进展：预计最快10天找到，研究称并非坠海，或是迫降海面；\n",
      "12、日本石川县6日早发生5.3级地震后，晚上再次发生4.4级地震，遇难人数升至126人，200余人下落不明，一临时避难所多人出现发烧及腹泻症状，专家：损失或超8000亿日元；金正恩首次向岸田文雄致电，就地震灾害表示慰问；\n",
      "13、美阿拉斯加航空一波音737MAX起飞后不久紧急迫降，近5千米高空中舱门掉了，乘客手机被气流吸走，波音回应：正在调查。阿航空：暂时停飞65架波音737MAX9飞机，安全是最重要的事；\n",
      "14、外媒：不理会多国警告，胡塞武装在红海引爆无人艇。马士基：全部绕航！国际航运价格或继续飙升；\n",
      "15、乌议员审议动员法案，乌武装总司令扎卢日内：我需要人，不然你们上前线；\n"
     ]
    }
   ],
   "source": [
    "\"\"\"默认\"\"\"\n",
    "\n",
    "tool = _func()\n",
    "content = tool.run(\"给我发一下早报？\")\n",
    "print(content)"
   ]
  },
  {
   "cell_type": "code",
   "execution_count": 5,
   "metadata": {},
   "outputs": [
    {
     "name": "stdout",
     "output_type": "stream",
     "text": [
      "[INFO][2024-01-07 19:49:21][chatgpt.py:186] - proxy no find, directly request to chatgpt instead\n",
      "2024-01-07\n",
      "\n",
      "1、成都学历落户条件放宽：35周岁以下的全日制普通高校专科学历毕业生可落户成都，2月20日起施行；\n",
      "2、鲁东大学一学生疑被冰锥砸中头部倒地，医院工作人员：重度颅脑损伤，已死亡；\n",
      "3、海南：将有序扩大榴莲种植面积，2024年将增加到4000亩，预计总产量约250吨，打造中国榴莲品牌；\n",
      "4、上海与嘉兴实现公交乘车码互联互通，后续扩大至杭州、南京等城市；\n",
      "5、面积816682.5平方米，哈尔滨冰雪大世界获“世界最大的冰雪主题乐园“吉尼斯世界纪录称号；\n",
      "6、韩方称朝鲜军方6日在半岛西北部地区发射数十发炮弹，朝方对此尚无回应；\n",
      "7、越南总人口突破1亿，成为全球第15个人口破亿国家；\n",
      "8、刚果（金）近日持续强降雨引发洪灾，造成至少300人死亡；\n",
      "9、黎巴嫩真主党：当地6日上午，发射了62枚火箭弹袭击以军基地，为报复哈马斯领导人在黎身亡；\n",
      "10、外媒：美最高法院同意，迅速审理特朗普对科州参选资格裁决的上诉；\n",
      "11、马航MH370重大进展：预计最快10天找到，研究称并非坠海，或是迫降海面；\n",
      "12、日本石川县6日早发生5.3级地震后，晚上再次发生4.4级地震，遇难人数升至126人，200余人下落不明，一临时避难所多人出现发烧及腹泻症状，专家：损失或超8000亿日元；金正恩首次向岸田文雄致电，就地震灾害表示慰问；\n",
      "13、美阿拉斯加航空一波音737MAX起飞后不久紧急迫降，近5千米高空中舱门掉了，乘客手机被气流吸走，波音回应：正在调查。阿航空：暂时停飞65架波音737MAX9飞机，安全是最重要的事；\n",
      "14、外媒：不理会多国警告，胡塞武装在红海引爆无人艇。马士基：全部绕航！国际航运价格或继续飙升；\n",
      "15、乌议员审议动员法案，乌武装总司令扎卢日内：我需要人，不然你们上前线；\n"
     ]
    }
   ],
   "source": [
    "\"\"\"精简输出\"\"\"\n",
    "_func_input = {\n",
    "    \"morning_news_simple\": True,\n",
    "}\n",
    "\n",
    "tool = _func(**_func_input)\n",
    "content = tool.run(\"给我发一下早报？\")\n",
    "print(content)"
   ]
  },
  {
   "cell_type": "code",
   "execution_count": 6,
   "metadata": {},
   "outputs": [
    {
     "name": "stdout",
     "output_type": "stream",
     "text": [
      "[INFO][2024-01-07 19:50:00][chatgpt.py:186] - proxy no find, directly request to chatgpt instead\n",
      "今日日期：2024-01-07\n",
      "\n",
      "今日早报：\n",
      "1、成都学历落户条件放宽：35周岁以下的全日制普通高校专科学历毕业生可落户成都，2月20日起施行；\n",
      "2、鲁东大学一学生疑被冰锥砸中头部倒地，医院工作人员：重度颅脑损伤，已死亡；\n",
      "3、海南：将有序扩大榴莲种植面积，2024年将增加到4000亩，预计总产量约250吨，打造中国榴莲品牌；\n",
      "4、上海与嘉兴实现公交乘车码互联互通，后续扩大至杭州、南京等城市；\n",
      "5、面积816682.5平方米，哈尔滨冰雪大世界获“世界最大的冰雪主题乐园“吉尼斯世界纪录称号；\n",
      "6、韩方称朝鲜军方6日在半岛西北部地区发射数十发炮弹，朝方对此尚无回应；\n",
      "7、越南总人口突破1亿，成为全球第15个人口破亿国家；\n",
      "8、刚果（金）近日持续强降雨引发洪灾，造成至少300人死亡；\n",
      "9、黎巴嫩真主党：当地6日上午，发射了62枚火箭弹袭击以军基地，为报复哈马斯领导人在黎身亡；\n",
      "10、外媒：美最高法院同意，迅速审理特朗普对科州参选资格裁决的上诉；\n",
      "11、马航MH370重大进展：预计最快10天找到，研究称并非坠海，或是迫降海面；\n",
      "12、日本石川县6日早发生5.3级地震后，晚上再次发生4.4级地震，遇难人数升至126人，200余人下落不明，一临时避难所多人出现发烧及腹泻症状，专家：损失或超8000亿日元；金正恩首次向岸田文雄致电，就地震灾害表示慰问；\n",
      "13、美阿拉斯加航空一波音737MAX起飞后不久紧急迫降，近5千米高空中舱门掉了，乘客手机被气流吸走，波音回应：正在调查。阿航空：暂时停飞65架波音737MAX9飞机，安全是最重要的事；\n",
      "14、外媒：不理会多国警告，胡塞武装在红海引爆无人艇。马士基：全部绕航！国际航运价格或继续飙升；\n",
      "15、乌议员审议动员法案，乌武装总司令扎卢日内：我需要人，不然你们上前线；\n",
      "\n",
      "今日微语：【微语】渺小的量变，可以累积惊人的质变。平凡的脚步，可以丈量遥远的旅途。\n",
      "\n",
      "URL: https://file.alapi.cn/60s/202401071704560382.png\n",
      "\n"
     ]
    }
   ],
   "source": [
    "\"\"\"详细输出\"\"\"\n",
    "_func_input = {\n",
    "    \"morning_news_simple\": False,\n",
    "}\n",
    "\n",
    "tool = _func(**_func_input)\n",
    "content = tool.run(\"给我发一下早报？\")\n",
    "print(content)"
   ]
  },
  {
   "cell_type": "code",
   "execution_count": 8,
   "metadata": {},
   "outputs": [
    {
     "name": "stdout",
     "output_type": "stream",
     "text": [
      "[INFO][2024-01-07 19:51:05][chatgpt.py:186] - proxy no find, directly request to chatgpt instead\n",
      "{\n",
      "    \"date\": \"2024-01-07\",\n",
      "    \"url\": \"https://file.alapi.cn/60s/202401071704560382.png\"\n",
      "}\n"
     ]
    }
   ],
   "source": [
    "\"\"\"图片输出\"\"\"\n",
    "_func_input = {\n",
    "    \"morning_news_output_type\": \"image\",\n",
    "}\n",
    "\n",
    "tool = _func(**_func_input)\n",
    "content = tool.run(\"给我发一下早报？\")\n",
    "print(content)"
   ]
  }
 ],
 "metadata": {
  "kernelspec": {
   "display_name": "tool",
   "language": "python",
   "name": "python3"
  },
  "language_info": {
   "codemirror_mode": {
    "name": "ipython",
    "version": 3
   },
   "file_extension": ".py",
   "mimetype": "text/x-python",
   "name": "python",
   "nbconvert_exporter": "python",
   "pygments_lexer": "ipython3",
   "version": "3.10.13"
  }
 },
 "nbformat": 4,
 "nbformat_minor": 2
}
