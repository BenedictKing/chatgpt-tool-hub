{
 "cells": [
  {
   "cell_type": "code",
   "execution_count": 1,
   "metadata": {},
   "outputs": [
    {
     "name": "stdout",
     "output_type": "stream",
     "text": [
      "/Users/goldfish/VSCode/chatgpt-tool-hub\n",
      "chatgpt-tool-hub version: 0.5.0\n"
     ]
    }
   ],
   "source": [
    "%run ../init.ipynb\n",
    "\n",
    "from chatgpt_tool_hub.tools import dynamic_tool_loader\n",
    "from chatgpt_tool_hub.tools.all_tool_list import main_tool_register\n",
    "\n",
    "# 尽可能地加载tool\n",
    "dynamic_tool_loader()\n",
    "\n",
    "_func, _ = main_tool_register.get_registered_tool()['meteo']"
   ]
  },
  {
   "cell_type": "code",
   "execution_count": 2,
   "metadata": {},
   "outputs": [
    {
     "name": "stdout",
     "output_type": "stream",
     "text": [
      "[INFO][2024-01-13 10:06:05][chatgpt.py:186] - proxy no find, directly request to chatgpt instead\n",
      "[INFO][2024-01-13 10:06:05][chatgpt.py:191] - success use customized api base url: https://azure-openai-fish.openai.azure.com/\n",
      "[DEBUG][2024-01-13 10:06:05][chatgpt.py:196] - success use llm api key: 2c7b6ab3baab4428aaddeb8b2e5528cd\n",
      "[INFO][2024-01-13 10:06:07][base.py:78] - URL 构造: https://api.open-meteo.com/v1/forecast?latitude=39.9042&longitude=116.4074&temperature_unit=celsius&windspeed_unit=kmh&precipitation_unit=mm&timeformat=iso8601&timezone=Asia/Shanghai&forecast_days=1&hourly=temperature_2m,weathercode\n",
      "[INFO][2024-01-13 10:06:08][base.py:88] - API 响应: '{\"latitude\":39.875,\"longitude\":116.375,\"generationtime_ms\":0.03504753112792969,\"utc_offset_seconds\":28800,\"timezone\":\"Asia/Shanghai\",\"timezone_abbreviation\":\"CST\",\"elevation\":47.0,\"hourly_units\":{\"time\":\"iso8601\",\"temperature_2m\":\"°C\",\"weathercode\":\"wmo code\"},\"hourly\":{\"time\":[\"2024-01-13T00:00\",\"2024-01-13T01:00\",\"2024-01-13T02:00\",\"2024-01-13T03:00\",\"2024-01-13T04:00\",\"2024-01-13T05:00\",\"2024-01-13T06:00\",\"2024-01-13T07:00\",\"2024-01-13T08:00\",\"2024-01-13T09:00\",\"2024-01-13T10:00\",\"2024-01-13T11:00\",\"2024-01-13T12:00\",\"2024-01-13T13:00\",\"2024-01-13T14:00\",\"2024-01-13T15:00\",\"2024-01-13T16:00\",\"2024-01-13T17:00\",\"2024-01-13T18:00\",\"2024-01-13T19:00\",\"2024-01-13T20:00\",\"2024-01-13T21:00\",\"2024-01-13T22:00\",\"2024-01-13T23:00\"],\"temperature_2m\":[-1.4,-2.2,-2.6,-2.5,-3.0,-3.4,-4.0,-4.4,-4.5,-3.8,-3.1,-2.8,-2.4,-2.1,-1.7,-1.5,-1.3,-1.2,-1.4,-1.6,-1.9,-2.2,-2.4,-2.8],\"weathercode\":[0,1,3,3,1,0,0,2,3,3,3,3,3,3,3,3,3,3,3,3,3,3,3,0]}}'\n",
      "根据API的响应结果，我们可以看到以下与问题相关的内容：\n",
      "- latitude（纬度）和longitude（经度）：39.875和116.375，表示北京的位置信息。\n",
      "- hourly（每小时）：包含了一天24小时的时间和对应的温度和天气代码。\n",
      "\n",
      "进一步分析该响应结果，我们可以回答用户提出的问题：“北京今日天气怎么样？”\n",
      "根据API的响应结果中的hourly字段，我们可以获取到北京今天每个小时的温度和天气代码。根据当前时间是2024-01-13 10:06:05，我们可以找到对应的时间戳为\"2024-01-13T10:00\"。在该时间点，北京的温度为-3.1°C，天气代码为3。\n",
      "\n",
      "因此，根据API的响应结果，北京今日的天气是-3.1°C，天气代码为3。\n"
     ]
    }
   ],
   "source": [
    "\"\"\"simple test\"\"\"\n",
    "\n",
    "tool = _func()\n",
    "result = tool.run(\"北京今日天气怎么样\")\n",
    "print(result)\n"
   ]
  },
  {
   "cell_type": "code",
   "execution_count": 3,
   "metadata": {},
   "outputs": [
    {
     "name": "stdout",
     "output_type": "stream",
     "text": [
      "[INFO][2024-01-13 10:08:52][chatgpt.py:186] - proxy no find, directly request to chatgpt instead\n",
      "[INFO][2024-01-13 10:08:53][base.py:78] - URL 构造: https://api.open-meteo.com/v1/forecast?latitude=39.9042&longitude=116.4074&temperature_unit=celsius&windspeed_unit=kmh&precipitation_unit=mm&timeformat=iso8601&timezone=Asia/Shanghai&forecast_days=1&hourly=weathercode\n",
      "[INFO][2024-01-13 10:08:54][base.py:88] - API 响应: '{\"latitude\":39.875,\"longitude\":116.375,\"generationtime_ms\":0.02491474151611328,\"utc_offset_seconds\":28800,\"timezone\":\"Asia/Shanghai\",\"timezone_abbreviation\":\"CST\",\"elevation\":47.0,\"hourly_units\":{\"time\":\"iso8601\",\"weathercode\":\"wmo code\"},\"hourly\":{\"time\":[\"2024-01-13T00:00\",\"2024-01-13T01:00\",\"2024-01-13T02:00\",\"2024-01-13T03:00\",\"2024-01-13T04:00\",\"2024-01-13T05:00\",\"2024-01-13T06:00\",\"2024-01-13T07:00\",\"2024-01-13T08:00\",\"2024-01-13T09:00\",\"2024-01-13T10:00\",\"2024-01-13T11:00\",\"2024-01-13T12:00\",\"2024-01-13T13:00\",\"2024-01-13T14:00\",\"2024-01-13T15:00\",\"2024-01-13T16:00\",\"2024-01-13T17:00\",\"2024-01-13T18:00\",\"2024-01-13T19:00\",\"2024-01-13T20:00\",\"2024-01-13T21:00\",\"2024-01-13T22:00\",\"2024-01-13T23:00\"],\"weathercode\":[0,1,3,3,1,0,0,2,3,3,3,3,3,3,3,3,3,3,3,3,3,3,3,0]}}'\n",
      "根据API的响应结果，我们可以看到以下与问题相关的内容：\n",
      "- latitude（纬度）和longitude（经度）表示北京的地理位置。\n",
      "- hourly字段提供了每小时的天气代码（weathercode）和时间（time）。\n",
      "\n",
      "进一步分析响应结果，我们可以使用时间信息来回答用户的问题。根据当前时间2024-01-13 10:08:52（UTC+8），我们可以找到对应的天气代码（weathercode）为3，表示多云。根据天气代码的定义，我们可以得出结论：北京今天不会下雪。\n",
      "\n",
      "因此，根据API的响应结果，北京今日不会下雪。\n"
     ]
    }
   ],
   "source": [
    "\"\"\"simple test\"\"\"\n",
    "\n",
    "tool = _func()\n",
    "result = tool.run(\"北京今日会下雪吗？\")\n",
    "print(result)\n"
   ]
  }
 ],
 "metadata": {
  "kernelspec": {
   "display_name": "tool",
   "language": "python",
   "name": "python3"
  },
  "language_info": {
   "codemirror_mode": {
    "name": "ipython",
    "version": 3
   },
   "file_extension": ".py",
   "mimetype": "text/x-python",
   "name": "python",
   "nbconvert_exporter": "python",
   "pygments_lexer": "ipython3",
   "version": "3.10.13"
  }
 },
 "nbformat": 4,
 "nbformat_minor": 2
}
