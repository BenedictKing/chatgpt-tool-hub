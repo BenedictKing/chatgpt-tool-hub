{
 "cells": [
  {
   "cell_type": "code",
   "execution_count": null,
   "metadata": {},
   "outputs": [],
   "source": [
    "%run ../init.ipynb\n",
    "\n",
    "from chatgpt_tool_hub.tools import dynamic_tool_loader\n",
    "from chatgpt_tool_hub.tools.all_tool_list import main_tool_register\n",
    "\n",
    "# 尽可能地加载tool\n",
    "dynamic_tool_loader()\n",
    "\n"
   ]
  },
  {
   "cell_type": "code",
   "execution_count": null,
   "metadata": {},
   "outputs": [],
   "source": [
    "\"\"\"test url-get tool\"\"\"\n",
    "\n",
    "url_get_func, _ = main_tool_register.get_registered_tool()['url-get']\n",
    "\n",
    "tool = url_get_func()\n",
    "result = tool.run(\"https://github.com/goldfishh/chatgpt-tool-hub\")\n",
    "print(result)"
   ]
  },
  {
   "cell_type": "code",
   "execution_count": null,
   "metadata": {},
   "outputs": [],
   "source": [
    "\"\"\"test browser tool\"\"\"\n",
    "\n",
    "browser_func, _ = main_tool_register.get_registered_tool()['browser']\n",
    "\n",
    "tool = browser_func()\n",
    "result = tool.run(\"https://github.com/goldfishh/chatgpt-tool-hub\")\n",
    "print(result)"
   ]
  },
  {
   "cell_type": "code",
   "execution_count": null,
   "metadata": {},
   "outputs": [],
   "source": [
    "\"\"\"summary test\"\"\"\n",
    "\n",
    "browser_func, _ = main_tool_register.get_registered_tool()['browser']\n",
    "\n",
    "tool = browser_func(use_summary=True)\n",
    "result = tool.run(\"https://github.com/goldfishh/chatgpt-tool-hub\")\n",
    "print(result)"
   ]
  }
 ],
 "metadata": {
  "kernelspec": {
   "display_name": "tool",
   "language": "python",
   "name": "python3"
  },
  "language_info": {
   "codemirror_mode": {
    "name": "ipython",
    "version": 3
   },
   "file_extension": ".py",
   "mimetype": "text/x-python",
   "name": "python",
   "nbconvert_exporter": "python",
   "pygments_lexer": "ipython3",
   "version": "3.8.0"
  }
 },
 "nbformat": 4,
 "nbformat_minor": 2
}
