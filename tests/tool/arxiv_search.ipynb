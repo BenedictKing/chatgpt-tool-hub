{
 "cells": [
  {
   "cell_type": "code",
   "execution_count": null,
   "metadata": {},
   "outputs": [],
   "source": [
    "%run ../init.ipynb\n",
    "\n",
    "from chatgpt_tool_hub.tools import dynamic_tool_loader\n",
    "from chatgpt_tool_hub.tools.all_tool_list import main_tool_register\n",
    "\n",
    "# 尽可能地加载tool\n",
    "dynamic_tool_loader()\n",
    "print(f\"toolhub目前加载的工具列表: {main_tool_register.get_registered_tool_names()}\")\n",
    "\n",
    "_func, _ = main_tool_register.get_registered_tool()['arxiv']"
   ]
  },
  {
   "cell_type": "code",
   "execution_count": null,
   "metadata": {},
   "outputs": [],
   "source": [
    "\"\"\"debug arxiv api\"\"\"\n",
    "import json\n",
    "from chatgpt_tool_hub.tools.arxiv_search.wrapper import ArxivAPIWrapper\n",
    "wrapper = ArxivAPIWrapper()\n",
    "\n",
    "_input = {\n",
    "    \"search_query\": \"au:shuai ma\"\n",
    "}\n",
    "# only author\n",
    "_api_response = wrapper.run(json.dumps(_input))\n",
    "print(_api_response)\n",
    "# only title\n",
    "_input[\"search_query\"] = \"ti:large language model\"\n",
    "_api_response = wrapper.run(json.dumps(_input))\n",
    "print(_api_response)\n",
    "# conplex search\n",
    "_input[\"search_query\"] = \"au:del_maestro ANDNOT ti:computer vision\"\n",
    "_api_response = wrapper.run(json.dumps(_input))\n",
    "print(_api_response)\n"
   ]
  },
  {
   "cell_type": "code",
   "execution_count": null,
   "metadata": {},
   "outputs": [],
   "source": [
    "\"\"\"debug llm output\"\"\"\n",
    "\n",
    "tool = _func(arxiv_debug=True)\n",
    "content = tool.run(\"帮我找找吴恩达写的论文。\")\n",
    "print(content)"
   ]
  },
  {
   "cell_type": "code",
   "execution_count": null,
   "metadata": {},
   "outputs": [],
   "source": [
    "\"\"\"simple mode\"\"\"\n",
    "\n",
    "tool = _func()\n",
    "content = tool.run(\"帮我找找马帅写的论文。\")\n",
    "print(content)"
   ]
  },
  {
   "cell_type": "code",
   "execution_count": null,
   "metadata": {},
   "outputs": [],
   "source": [
    "\"\"\"limit top-k number\"\"\"\n",
    "\n",
    "tool = _func(arxiv_top_k_results=1)\n",
    "content = tool.run(\"帮我找找吴恩达写的论文。\")\n",
    "print(content)"
   ]
  },
  {
   "cell_type": "code",
   "execution_count": null,
   "metadata": {},
   "outputs": [],
   "source": [
    "\"\"\"normal mode\"\"\"\n",
    "\n",
    "tool = _func(arxiv_simple=False, arxiv_top_k_results=1)\n",
    "content = tool.run(\"帮我找找马帅写的论文。\")\n",
    "print(content)"
   ]
  },
  {
   "cell_type": "code",
   "execution_count": null,
   "metadata": {},
   "outputs": [],
   "source": [
    "\"\"\"pdf mode\"\"\"\n",
    "\n",
    "tool = _func(arxiv_output_type=\"pdf\", arxiv_top_k_results=1)\n",
    "content = tool.run(\"帮我找找吴恩达写的论文。\")\n",
    "print(content)"
   ]
  },
  {
   "cell_type": "code",
   "execution_count": null,
   "metadata": {},
   "outputs": [],
   "source": [
    "\"\"\"all(pdf+text) mode\"\"\"\n",
    "\n",
    "tool = _func(arxiv_output_type=\"all\", arxiv_top_k_results=1)\n",
    "content = tool.run(\"帮我找找吴恩达写的论文。\")\n",
    "print(content)"
   ]
  },
  {
   "cell_type": "code",
   "execution_count": null,
   "metadata": {},
   "outputs": [],
   "source": [
    "\"\"\"control the way to output\"\"\"\n",
    "\n",
    "tool = _func(arxiv_simple=False, \n",
    "             arxiv_sort_by=\"lastUpdatedDate\", \n",
    "             arxiv_sort_order=\"descending\",\n",
    "             arxiv_top_k_results=2)\n",
    "content = tool.run(\"帮我找找吴恩达写的论文。\")\n",
    "print(content)"
   ]
  },
  {
   "cell_type": "code",
   "execution_count": null,
   "metadata": {},
   "outputs": [],
   "source": [
    "\"\"\"complex example\"\"\"\n",
    "\n",
    "tool = _func(arxiv_simple=False, \n",
    "             arxiv_output_type=\"all\", \n",
    "             arxiv_top_k_results=5)\n",
    "content = tool.run(\"帮我找找深度估计的论文\")\n",
    "print(content)"
   ]
  }
 ],
 "metadata": {
  "kernelspec": {
   "display_name": "tool",
   "language": "python",
   "name": "python3"
  },
  "language_info": {
   "codemirror_mode": {
    "name": "ipython",
    "version": 3
   },
   "file_extension": ".py",
   "mimetype": "text/x-python",
   "name": "python",
   "nbconvert_exporter": "python",
   "pygments_lexer": "ipython3",
   "version": "3.8.0"
  }
 },
 "nbformat": 4,
 "nbformat_minor": 2
}
