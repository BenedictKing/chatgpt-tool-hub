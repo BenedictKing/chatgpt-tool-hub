{
 "cells": [
  {
   "cell_type": "code",
   "execution_count": 1,
   "metadata": {},
   "outputs": [
    {
     "name": "stdout",
     "output_type": "stream",
     "text": [
      "/Users/goldfish/VSCode/chatgpt-tool-hub\n",
      "chatgpt-tool-hub version: 0.5.0\n"
     ]
    }
   ],
   "source": [
    "%run ../init.ipynb\n",
    "\n",
    "from chatgpt_tool_hub.tools import dynamic_tool_loader\n",
    "from chatgpt_tool_hub.tools.all_tool_list import main_tool_register\n",
    "\n",
    "# 尽可能地加载tool\n",
    "dynamic_tool_loader()\n",
    "\n",
    "_func, _ = main_tool_register.get_registered_tool()['news-api']"
   ]
  },
  {
   "cell_type": "code",
   "execution_count": 2,
   "metadata": {},
   "outputs": [
    {
     "name": "stdout",
     "output_type": "stream",
     "text": [
      "[INFO][2024-01-13 10:58:00][chatgpt.py:186] - proxy no find, directly request to chatgpt instead\n",
      "[INFO][2024-01-13 10:58:00][chatgpt.py:191] - success use customized api base url: https://azure-openai-fish.openai.azure.com/\n",
      "[DEBUG][2024-01-13 10:58:00][chatgpt.py:196] - success use llm api key: 2c7b6ab3baab4428aaddeb8b2e5528cd\n",
      "[DEBUG][2024-01-13 10:58:02][tool.py:43] - [news-api]: search_query: {'question': '最近中国有哪些新闻？', 'text': 'https://newsapi.org/v2/top-headlines?country=cn&pageSize=5'}\n",
      "《厄瓜多尔监狱内178人被囚犯扣为人质 - 新华网》 News.cn \n",
      "日期：2024-01-12 10:25:55\n",
      "\n",
      "厄瓜多尔监狱内178人被囚犯扣为人质-\n",
      "链接：http://www.news.cn/world/20240112/5c3a170bf9b84e1bae654705dc60daa6/c.html\n",
      "\n",
      "---\n",
      "\n",
      "《年报业绩预喜率超八成贵州茅台暂居“盈利王”-新闻 - 上海证券报》 Cnstock.com 上海证券报\n",
      "日期：2024-01-12 10:22:18\n",
      "链接：https://news.cnstock.com/news,bwkx-202401-5175654.htm\n",
      "\n",
      "---\n",
      "\n",
      "《西班牙超级杯：巴塞罗那队晋级决赛-新华网 - 新华网》 Xinhua Net \n",
      "日期：2024-01-12 10:04:38\n",
      "\n",
      "西班牙超级杯：巴塞罗那队晋级决赛-\n",
      "链接：http://sports.xinhuanet.com/20240112/8cce576e30434a74a93716bca2fc20a8/c.html\n",
      "\n",
      "---\n",
      "\n",
      "《河南省人民检察院依法对肖星决定逮捕 - 新闻频道》 Cctv.com 邢斯馨\n",
      "日期：2024-01-12 10:00:12\n",
      "\n",
      "中国太平保险集团有限责任公司原党委委员、副总经理肖星涉嫌受贿一案，由国家监察委员会调查终结，移送检察机关审查起诉。日前，经最高人民检察院指定管辖，河南省人民检察院依法以涉嫌受贿罪对肖星作出逮捕决定。案件正在进一步办理中。\n",
      "链接：https://news.cctv.com/2024/01/12/ARTIk34dOLYNlxgLuDHH64Cv240112.shtml\n",
      "\n",
      "---\n",
      "\n",
      "《郑钦文领衔9将出征澳网单打-中新网 - chinanews.com.cn》 Chinanews.com.cn chinanews\n",
      "日期：2024-01-12 09:54:05\n",
      "链接：https://www.chinanews.com.cn/ty/2024/01-12/10144798.shtml\n"
     ]
    }
   ],
   "source": [
    "\"\"\"simple test\"\"\"\n",
    "\n",
    "tool = _func()\n",
    "result = tool.run(\"最近中国有哪些新闻？\")\n",
    "print(result)"
   ]
  },
  {
   "cell_type": "code",
   "execution_count": 4,
   "metadata": {},
   "outputs": [
    {
     "name": "stdout",
     "output_type": "stream",
     "text": [
      "[INFO][2024-01-13 11:01:12][chatgpt.py:186] - proxy no find, directly request to chatgpt instead\n",
      "[DEBUG][2024-01-13 11:01:14][tool.py:43] - [news-api]: search_query: {'question': '最近美国有哪些新闻？', 'text': 'https://newsapi.org/v2/top-headlines?country=us&pageSize=5'}\n",
      "《Not so grown up: Chris Christie's cranky exit - POLITICO》 Politico None\n",
      "日期：2024-01-12 09:39:22\n",
      "\n",
      "The former New Jersey governor tried to be 2024's adult in the room.\n",
      "\n",
      "He began snapping at town hall attendees for suggesting he should drop out. He slammed the states venerated Republican governor, \n",
      "Chris Sununu, as a liar for predicting the end was near for his camp… [+6607 chars]\n",
      "链接：https://www.politico.com/news/2024/01/11/not-so-grown-up-chris-christies-cranky-exit-00135227\n",
      "\n",
      "---\n",
      "\n",
      "《The Peregrine lunar lander has another 48 hours left in space - The Verge》 The Verge Amrita Khalid\n",
      "日期：2024-01-12 08:55:00\n",
      "\n",
      "NASA reports that four of its science instruments aboard the ship are gathering data. The maker of Peregrine reported that the spacecraft has another 48 hours of fuel left, beating earlier estimates.\n",
      "\n",
      "The Peregrine lunar lander didnt land, but its still collecting data\n",
      "The Peregrine lunar lander didnt land, but its still collecting data\n",
      " / The spacecraft has about 48 hours of propellant remainin… [+2119 chars]\n",
      "链接：https://www.theverge.com/2024/1/11/24035242/astrobotic-peregrine-lunar-lander-nasa-data-payloads\n",
      "\n",
      "---\n",
      "\n",
      "《Possible Nintendo Switch 2 Release Window Leaked - IGN Daily Fix - IGN》 YouTube None\n",
      "日期：2024-01-12 08:50:54\n",
      "\n",
      "In today's Daily Fix:A third-party AI company may have accidentally revealed a release window for the Nintendo Switch 2. AI Shark—formerly GameShark (remembe...\n",
      "链接：https://www.youtube.com/watch?v=9ggfWM26UWg\n",
      "\n",
      "---\n",
      "\n",
      "《Iran Seizes Oil Tanker Linked to U.S. Sanctions Dispute - The Wall Street Journal》 The Wall Street Journal Benoit Faucon, Margherita Stancati, William Mauldin\n",
      "日期：2024-01-12 08:41:00\n",
      "\n",
      "Seizure off coast of Oman comes as Blinken wraps up Middle East tour\n",
      "链接：https://www.wsj.com/world/middle-east/armed-uniformed-men-divert-oil-tanker-to-iranian-waters-d843f9a3\n",
      "\n",
      "---\n",
      "\n",
      "《Fruit Stripe Gum to bite the dust after a half century of highly abbreviated rainbow flavors - The Associated Press》 Associated Press None\n",
      "日期：2024-01-12 08:39:41\n",
      "\n",
      "Fruit Stripe Gum, something of a childhood icon for many gum chewers over the past five decades, will soon head over the rainbow with its zebra mascot Yipes, seemingly for good. Its manufacturer, the Chicago company Ferrara Candy Co., told Food & Wine and CNN…\n",
      "\n",
      "SAN FRANCISCO (AP) Fruit Stripe Gum, something of a childhood icon for many gum chewers over the past five decades, will soon head over the rainbow with its multicolored zebra mascot Yipes seemingly … [+1229 chars]\n",
      "链接：https://apnews.com/article/fruit-stripe-gum-discontinued-624b16ee0066c638154464bf47c4ac9d\n"
     ]
    }
   ],
   "source": [
    "\"\"\"simple test\"\"\"\n",
    "\n",
    "tool = _func()\n",
    "result = tool.run(\"最近美国有哪些新闻？\")\n",
    "print(result)"
   ]
  }
 ],
 "metadata": {
  "kernelspec": {
   "display_name": "tool",
   "language": "python",
   "name": "python3"
  },
  "language_info": {
   "codemirror_mode": {
    "name": "ipython",
    "version": 3
   },
   "file_extension": ".py",
   "mimetype": "text/x-python",
   "name": "python",
   "nbconvert_exporter": "python",
   "pygments_lexer": "ipython3",
   "version": "3.10.13"
  }
 },
 "nbformat": 4,
 "nbformat_minor": 2
}
