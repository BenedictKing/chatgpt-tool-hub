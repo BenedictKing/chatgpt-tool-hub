{
 "cells": [
  {
   "cell_type": "code",
   "execution_count": 1,
   "metadata": {},
   "outputs": [
    {
     "name": "stdout",
     "output_type": "stream",
     "text": [
      "/Users/goldfish/VSCode/chatgpt-tool-hub\n",
      "chatgpt-tool-hub version: 0.5.0\n",
      "[INFO][2024-01-13 00:55:02][__init__.py:29] - [visual_dl] init failed, error_info: ModuleNotFoundError(\"No module named 'torch'\")\n"
     ]
    }
   ],
   "source": [
    "%run ../init.ipynb\n",
    "\n",
    "from chatgpt_tool_hub.tools import dynamic_tool_loader\n",
    "from chatgpt_tool_hub.tools.all_tool_list import main_tool_register\n",
    "\n",
    "# 尽可能地加载tool\n",
    "dynamic_tool_loader()\n",
    "\n",
    "_func, _ = main_tool_register.get_registered_tool()['sms']"
   ]
  },
  {
   "cell_type": "code",
   "execution_count": 2,
   "metadata": {},
   "outputs": [
    {
     "name": "stdout",
     "output_type": "stream",
     "text": [
      "[INFO][2024-01-13 00:55:06][chatgpt.py:186] - proxy no find, directly request to chatgpt instead\n",
      "[INFO][2024-01-13 00:55:06][chatgpt.py:191] - success use customized api base url: https://azure-openai-fish.openai.azure.com/\n",
      "[DEBUG][2024-01-13 00:55:06][chatgpt.py:196] - success use llm api key: 2c7b6ab3baab4428aaddeb8b2e5528cd\n",
      "[DEBUG][2024-01-13 00:55:08][tool.py:85] - [sms]: sms command: {'input': '向 fish 问候一下，提醒他天冷多添衣，注意休息', 'text': '{\\n  \"to_addr\": \"fish\",\\n  \"body\": \"亲爱的fish，我想提醒你天气变冷了，请记得多添衣保暖，注意休息哦！\"\\n}'}\n",
      "{'input': '向 fish 问候一下，提醒他天冷多添衣，注意休息', 'text': '{\\n  \"to_addr\": \"fish\",\\n  \"body\": \"亲爱的fish，我想提醒你天气变冷了，请记得多添衣保暖，注意休息哦！\"\\n}'}\n"
     ]
    }
   ],
   "source": [
    "\"\"\"debug mode\"\"\"\n",
    "\n",
    "tool = _func(sms_debug=True)\n",
    "result = tool.run(\"向 fish 问候一下，提醒他天冷多添衣，注意休息\")\n",
    "print(result)\n"
   ]
  },
  {
   "cell_type": "code",
   "execution_count": 5,
   "metadata": {},
   "outputs": [
    {
     "name": "stdout",
     "output_type": "stream",
     "text": [
      "[INFO][2024-01-10 00:58:30][chatgpt.py:186] - proxy no find, directly request to chatgpt instead\n",
      "[DEBUG][2024-01-10 00:58:36][tool.py:85] - [sms]: sms command: {'input': '向 常佳辉 问候一下，提醒他天冷多添衣，注意休息', 'text': '{\\n  \"to_addr\": \"常佳辉\",\\n  \"body\": \"常佳辉，你好！提醒你天冷了，记得多添衣服，注意休息哦。\"\\n}'}\n",
      "短信发送成功\n"
     ]
    }
   ],
   "source": [
    "\"\"\"simple mode\"\"\"\n",
    "tool = _func()\n",
    "result = tool.run(\"向 fish 问候一下，提醒他早点休息\")\n",
    "print(result)"
   ]
  }
 ],
 "metadata": {
  "kernelspec": {
   "display_name": "tool",
   "language": "python",
   "name": "python3"
  },
  "language_info": {
   "codemirror_mode": {
    "name": "ipython",
    "version": 3
   },
   "file_extension": ".py",
   "mimetype": "text/x-python",
   "name": "python",
   "nbconvert_exporter": "python",
   "pygments_lexer": "ipython3",
   "version": "3.10.13"
  }
 },
 "nbformat": 4,
 "nbformat_minor": 2
}
