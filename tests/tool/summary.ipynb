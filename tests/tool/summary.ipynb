{
 "cells": [
  {
   "cell_type": "code",
   "execution_count": null,
   "metadata": {},
   "outputs": [],
   "source": [
    "%run ../init.ipynb\n",
    "\n",
    "from chatgpt_tool_hub.tools import dynamic_tool_loader\n",
    "from chatgpt_tool_hub.tools.tool_register import main_tool_register\n",
    "\n",
    "# 尽可能地加载tool\n",
    "dynamic_tool_loader()\n",
    "\n",
    "# 嵌套事件循环\n",
    "import nest_asyncio\n",
    "nest_asyncio.apply()\n",
    "\n",
    "_func, _ = main_tool_register.get_registered_tool()['summary']"
   ]
  },
  {
   "cell_type": "code",
   "execution_count": null,
   "metadata": {},
   "outputs": [],
   "source": [
    "text = \"\"\"音乐是一种声音在时间中流动的艺术，并在过程中形成了一种结构。\n",
    "\n",
    "从物理学出发，声音的实质是传声媒介质点所产生的一系列振动现象的传递过程。而动听的音乐正是一系列质点振动的总效果。 人类可以轻而易举的通过耳膜与「音乐细胞」来感受质点振动的效果，但 AI 没有人类的耳朵，AI 的世界是虚拟化的，组成那个世界的最小「粒子」是数字。\n",
    "\n",
    "因此，需要一座桥梁，架设在振动与数字之上，连接于现实与虚拟之间。而这座桥梁，早在 1983 就已落成，它就是 MIDI。\n",
    "\n",
    "MIDI 的全称是「Musical Instrument Digital Interface」，即「乐器数字化接口」。\n",
    "\n",
    "MIDI对音乐的管理无微不至，即能精细独立的管理乐音的四要素：音高、音长、音强和音色。又有极高的存储效率，200 小时的音乐只要 80M 左右的存储空间。MIDI 所存储的实际只是一组指令，告诉键盘、贝斯、架子鼓等在某个时间以怎样的方式发声。简单来说，MIDI 存储了时间点与音符的对应关系。这与以上 AI 猜音符的游戏不谋而合。\n",
    "\n",
    "既然 MIDI 很合适，那么把互联网上海量音乐转换成 MIDI 文件，就可以得到充足的数据源。确实如此，但是将网络中 MP3、WAV 等音频转换成 MIDI 的过程也是一个重大挑战。从音频到 MIDI 还需要转录、同步、旋律，和弦提取等。\n",
    "\n",
    "近几年，转录技术迅速发展，为数字音乐提供了大量且优质的 MIDI 素材，2018 的转录还只能从干净的音频信号中提取相对单一的声音。而就在上个月，Google Magenta 团队的最新论文[MT3: MULTI-TASK MULTITRACK][1]，已经对多层次的复杂合奏音频进行转录。（ 转录技术不是本文重点，感兴趣的朋友推荐阅读文末 [1]。 ） 本文所用的数据源来自 aiLabs.tw 团队的 Pop1K7 数据源。\n",
    "\"\"\"\n",
    "\n",
    "from chatgpt_tool_hub.models.calculate_token import count_string_tokens as get_token_num\n",
    "print(f\"this text counts about {get_token_num(text)} tokens\")"
   ]
  },
  {
   "cell_type": "code",
   "execution_count": null,
   "metadata": {},
   "outputs": [],
   "source": [
    "\"\"\"normal test (no summary)\"\"\"\n",
    "\n",
    "tool = _func()\n",
    "result = tool.text(text)\n",
    "print(result)\n"
   ]
  },
  {
   "cell_type": "code",
   "execution_count": null,
   "metadata": {},
   "outputs": [],
   "source": [
    "\"\"\"summary test\"\"\"\n",
    "# 将文档按500token分段\n",
    "tool = _func(summary_max_segment_length=500)\n",
    "result = tool.text(text)\n",
    "print(result)\n"
   ]
  },
  {
   "cell_type": "code",
   "execution_count": null,
   "metadata": {},
   "outputs": [],
   "source": [
    "\"\"\"local file test\"\"\"\n",
    "import tempfile\n",
    "\n",
    "temp_file = tempfile.mkstemp()\n",
    "file_path = temp_file[1]\n",
    "\n",
    "with open(file_path, \"w\") as f:\n",
    "    f.write(text + \"\\n\")\n",
    "\n",
    "tool = _func(summary_max_segment_length=500)\n",
    "result = tool.path(file_path)\n",
    "print(result)"
   ]
  },
  {
   "cell_type": "code",
   "execution_count": null,
   "metadata": {},
   "outputs": [],
   "source": [
    "\"\"\"huge text summary test\"\"\"\n",
    "\n",
    "url = \"https://www.wenku8.net/novel/2/2428/148057.htm\"\n",
    "tool = _func(summary_max_segment_length=4000)\n",
    "result = tool.run(url)\n",
    "print(result)"
   ]
  }
 ],
 "metadata": {
  "kernelspec": {
   "display_name": "tool",
   "language": "python",
   "name": "python3"
  },
  "language_info": {
   "codemirror_mode": {
    "name": "ipython",
    "version": 3
   },
   "file_extension": ".py",
   "mimetype": "text/x-python",
   "name": "python",
   "nbconvert_exporter": "python",
   "pygments_lexer": "ipython3",
   "version": "3.10.13"
  }
 },
 "nbformat": 4,
 "nbformat_minor": 2
}
