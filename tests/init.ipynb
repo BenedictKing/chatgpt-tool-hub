{
 "cells": [
  {
   "cell_type": "code",
   "execution_count": null,
   "metadata": {},
   "outputs": [],
   "source": [
    "import os\n",
    "\n",
    "python_path = os.environ.get(\"PYTHONPATH\")\n",
    "\n",
    "# /Users/goldfish/VSCode/chatgpt-tool-hub/chatgpt_tool_hub\n",
    "if not python_path:\n",
    "    python_path = input(\"请输入项目的绝对路径（PYTHONPATH）：\")\n",
    "print(python_path)\n",
    "\n",
    "os.environ[\"PYTHONPATH\"] = python_path"
   ]
  },
  {
   "cell_type": "code",
   "execution_count": null,
   "metadata": {},
   "outputs": [],
   "source": [
    "from chatgpt_tool_hub.tools.all_tool_list import main_tool_register\n",
    "\n",
    "# debug mode\n",
    "import logging\n",
    "from chatgpt_tool_hub.common.log import refresh\n",
    "refresh(logging.DEBUG)\n",
    "\n",
    "# print(f\"toolhub初始加载的工具列表: {main_tool_register.get_registered_tool_names()}\")"
   ]
  }
 ],
 "metadata": {
  "kernelspec": {
   "display_name": "tool",
   "language": "python",
   "name": "python3"
  },
  "language_info": {
   "codemirror_mode": {
    "name": "ipython",
    "version": 3
   },
   "file_extension": ".py",
   "mimetype": "text/x-python",
   "name": "python",
   "nbconvert_exporter": "python",
   "pygments_lexer": "ipython3",
   "version": "3.10.13"
  }
 },
 "nbformat": 4,
 "nbformat_minor": 2
}
